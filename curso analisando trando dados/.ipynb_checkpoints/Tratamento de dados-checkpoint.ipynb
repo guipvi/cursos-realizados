{
 "cells": [
  {
   "cell_type": "markdown",
   "id": "a04c43f3",
   "metadata": {},
   "source": [
    "# Relatório de análise V"
   ]
  },
  {
   "cell_type": "markdown",
   "id": "005aff39",
   "metadata": {},
   "source": [
    "## Tratamento de dados"
   ]
  },
  {
   "cell_type": "code",
   "execution_count": 19,
   "id": "709fcc86",
   "metadata": {},
   "outputs": [],
   "source": [
    "import pandas as pd"
   ]
  },
  {
   "cell_type": "code",
   "execution_count": 20,
   "id": "7515f2f4",
   "metadata": {},
   "outputs": [],
   "source": [
    "dados = pd.read_csv('dados/aluguel_residencial.csv', sep = ';')"
   ]
  },
  {
   "cell_type": "code",
   "execution_count": 104,
   "id": "750f7347",
   "metadata": {},
   "outputs": [
    {
     "data": {
      "text/html": [
       "<div>\n",
       "<style scoped>\n",
       "    .dataframe tbody tr th:only-of-type {\n",
       "        vertical-align: middle;\n",
       "    }\n",
       "\n",
       "    .dataframe tbody tr th {\n",
       "        vertical-align: top;\n",
       "    }\n",
       "\n",
       "    .dataframe thead th {\n",
       "        text-align: right;\n",
       "    }\n",
       "</style>\n",
       "<table border=\"1\" class=\"dataframe\">\n",
       "  <thead>\n",
       "    <tr style=\"text-align: right;\">\n",
       "      <th></th>\n",
       "      <th>Tipo</th>\n",
       "      <th>Bairro</th>\n",
       "      <th>Quartos</th>\n",
       "      <th>Vagas</th>\n",
       "      <th>Suites</th>\n",
       "      <th>Area</th>\n",
       "      <th>Valor</th>\n",
       "      <th>Condominio</th>\n",
       "      <th>IPTU</th>\n",
       "    </tr>\n",
       "  </thead>\n",
       "  <tbody>\n",
       "    <tr>\n",
       "      <th>0</th>\n",
       "      <td>False</td>\n",
       "      <td>False</td>\n",
       "      <td>False</td>\n",
       "      <td>False</td>\n",
       "      <td>False</td>\n",
       "      <td>False</td>\n",
       "      <td>False</td>\n",
       "      <td>False</td>\n",
       "      <td>False</td>\n",
       "    </tr>\n",
       "    <tr>\n",
       "      <th>1</th>\n",
       "      <td>False</td>\n",
       "      <td>False</td>\n",
       "      <td>False</td>\n",
       "      <td>False</td>\n",
       "      <td>False</td>\n",
       "      <td>False</td>\n",
       "      <td>False</td>\n",
       "      <td>True</td>\n",
       "      <td>True</td>\n",
       "    </tr>\n",
       "    <tr>\n",
       "      <th>2</th>\n",
       "      <td>False</td>\n",
       "      <td>False</td>\n",
       "      <td>False</td>\n",
       "      <td>False</td>\n",
       "      <td>False</td>\n",
       "      <td>False</td>\n",
       "      <td>False</td>\n",
       "      <td>False</td>\n",
       "      <td>False</td>\n",
       "    </tr>\n",
       "    <tr>\n",
       "      <th>3</th>\n",
       "      <td>False</td>\n",
       "      <td>False</td>\n",
       "      <td>False</td>\n",
       "      <td>False</td>\n",
       "      <td>False</td>\n",
       "      <td>False</td>\n",
       "      <td>False</td>\n",
       "      <td>False</td>\n",
       "      <td>True</td>\n",
       "    </tr>\n",
       "    <tr>\n",
       "      <th>4</th>\n",
       "      <td>False</td>\n",
       "      <td>False</td>\n",
       "      <td>False</td>\n",
       "      <td>False</td>\n",
       "      <td>False</td>\n",
       "      <td>False</td>\n",
       "      <td>False</td>\n",
       "      <td>True</td>\n",
       "      <td>True</td>\n",
       "    </tr>\n",
       "    <tr>\n",
       "      <th>...</th>\n",
       "      <td>...</td>\n",
       "      <td>...</td>\n",
       "      <td>...</td>\n",
       "      <td>...</td>\n",
       "      <td>...</td>\n",
       "      <td>...</td>\n",
       "      <td>...</td>\n",
       "      <td>...</td>\n",
       "      <td>...</td>\n",
       "    </tr>\n",
       "    <tr>\n",
       "      <th>23118</th>\n",
       "      <td>False</td>\n",
       "      <td>False</td>\n",
       "      <td>False</td>\n",
       "      <td>False</td>\n",
       "      <td>False</td>\n",
       "      <td>False</td>\n",
       "      <td>False</td>\n",
       "      <td>False</td>\n",
       "      <td>False</td>\n",
       "    </tr>\n",
       "    <tr>\n",
       "      <th>23119</th>\n",
       "      <td>False</td>\n",
       "      <td>False</td>\n",
       "      <td>False</td>\n",
       "      <td>False</td>\n",
       "      <td>False</td>\n",
       "      <td>False</td>\n",
       "      <td>False</td>\n",
       "      <td>False</td>\n",
       "      <td>False</td>\n",
       "    </tr>\n",
       "    <tr>\n",
       "      <th>23120</th>\n",
       "      <td>False</td>\n",
       "      <td>False</td>\n",
       "      <td>False</td>\n",
       "      <td>False</td>\n",
       "      <td>False</td>\n",
       "      <td>False</td>\n",
       "      <td>False</td>\n",
       "      <td>False</td>\n",
       "      <td>False</td>\n",
       "    </tr>\n",
       "    <tr>\n",
       "      <th>23121</th>\n",
       "      <td>False</td>\n",
       "      <td>False</td>\n",
       "      <td>False</td>\n",
       "      <td>False</td>\n",
       "      <td>False</td>\n",
       "      <td>False</td>\n",
       "      <td>False</td>\n",
       "      <td>False</td>\n",
       "      <td>False</td>\n",
       "    </tr>\n",
       "    <tr>\n",
       "      <th>23122</th>\n",
       "      <td>False</td>\n",
       "      <td>False</td>\n",
       "      <td>False</td>\n",
       "      <td>False</td>\n",
       "      <td>False</td>\n",
       "      <td>False</td>\n",
       "      <td>False</td>\n",
       "      <td>False</td>\n",
       "      <td>True</td>\n",
       "    </tr>\n",
       "  </tbody>\n",
       "</table>\n",
       "<p>23114 rows × 9 columns</p>\n",
       "</div>"
      ],
      "text/plain": [
       "        Tipo  Bairro  Quartos  Vagas  Suites   Area  Valor  Condominio   IPTU\n",
       "0      False   False    False  False   False  False  False       False  False\n",
       "1      False   False    False  False   False  False  False        True   True\n",
       "2      False   False    False  False   False  False  False       False  False\n",
       "3      False   False    False  False   False  False  False       False   True\n",
       "4      False   False    False  False   False  False  False        True   True\n",
       "...      ...     ...      ...    ...     ...    ...    ...         ...    ...\n",
       "23118  False   False    False  False   False  False  False       False  False\n",
       "23119  False   False    False  False   False  False  False       False  False\n",
       "23120  False   False    False  False   False  False  False       False  False\n",
       "23121  False   False    False  False   False  False  False       False  False\n",
       "23122  False   False    False  False   False  False  False       False   True\n",
       "\n",
       "[23114 rows x 9 columns]"
      ]
     },
     "execution_count": 104,
     "metadata": {},
     "output_type": "execute_result"
    }
   ],
   "source": [
    "dados.isnull()"
   ]
  },
  {
   "cell_type": "code",
   "execution_count": 22,
   "id": "4bea5538",
   "metadata": {},
   "outputs": [
    {
     "name": "stdout",
     "output_type": "stream",
     "text": [
      "<class 'pandas.core.frame.DataFrame'>\n",
      "RangeIndex: 23123 entries, 0 to 23122\n",
      "Data columns (total 9 columns):\n",
      " #   Column      Non-Null Count  Dtype  \n",
      "---  ------      --------------  -----  \n",
      " 0   Tipo        23123 non-null  object \n",
      " 1   Bairro      23123 non-null  object \n",
      " 2   Quartos     23123 non-null  int64  \n",
      " 3   Vagas       23123 non-null  int64  \n",
      " 4   Suites      23123 non-null  int64  \n",
      " 5   Area        23123 non-null  int64  \n",
      " 6   Valor       23114 non-null  float64\n",
      " 7   Condominio  21247 non-null  float64\n",
      " 8   IPTU        16237 non-null  float64\n",
      "dtypes: float64(3), int64(4), object(2)\n",
      "memory usage: 1.6+ MB\n"
     ]
    }
   ],
   "source": [
    "dados.info()"
   ]
  },
  {
   "cell_type": "code",
   "execution_count": 95,
   "id": "432ea514",
   "metadata": {},
   "outputs": [
    {
     "data": {
      "text/plain": [
       "23114"
      ]
     },
     "execution_count": 95,
     "metadata": {},
     "output_type": "execute_result"
    }
   ],
   "source": [
    "selecao_valor = (dados['Valor'].notnull())\n",
    "filtro_valor = dados[selecao_valor]\n",
    "valor_filtrado = dados[selecao_valor].shape[0]\n",
    "dados = dados[selecao_valor]\n",
    "dados.shape[0]"
   ]
  },
  {
   "cell_type": "code",
   "execution_count": 97,
   "id": "7708cc47",
   "metadata": {},
   "outputs": [
    {
     "data": {
      "text/plain": [
       "<bound method DataFrame.drop of                      Tipo           Bairro  Quartos  Vagas  Suites  Area  \\\n",
       "4             Apartamento     Vista Alegre        3      1       0    70   \n",
       "6      Casa de Condomínio  Barra da Tijuca        5      4       5   750   \n",
       "7      Casa de Condomínio            Ramos        2      2       0    65   \n",
       "8             Apartamento           Centro        1      0       0    36   \n",
       "15     Casa de Condomínio          Taquara        3      1       1   115   \n",
       "...                   ...              ...      ...    ...     ...   ...   \n",
       "22868         Apartamento       Copacabana        3      0       0   130   \n",
       "22897         Apartamento        Guadalupe        1      0       0    40   \n",
       "22914         Apartamento       Bonsucesso        1      0       0    60   \n",
       "22944         Apartamento         Flamengo        2      0       0    59   \n",
       "23016         Apartamento        Cascadura        3      0       1    70   \n",
       "\n",
       "         Valor  Condominio  IPTU  \n",
       "4       1200.0         NaN   NaN  \n",
       "6      22000.0         NaN   NaN  \n",
       "7       1000.0         NaN   NaN  \n",
       "8       1200.0         NaN   NaN  \n",
       "15      2000.0         NaN   NaN  \n",
       "...        ...         ...   ...  \n",
       "22868   4600.0         NaN   NaN  \n",
       "22897    550.0         NaN   NaN  \n",
       "22914   1000.0         NaN   NaN  \n",
       "22944   3500.0         NaN   NaN  \n",
       "23016   1200.0         NaN   NaN  \n",
       "\n",
       "[954 rows x 9 columns]>"
      ]
     },
     "execution_count": 97,
     "metadata": {},
     "output_type": "execute_result"
    }
   ],
   "source": [
    "selecao_condominio_invalido = ((dados['Tipo'] == 'Apartamento') & (dados['Condominio'].isnull())) | ((dados['Tipo'] == 'Quitinete') & (dados['Condominio'].isnull())) | ((dados['Tipo'] == 'Casa de Condomínio') & (dados['Condominio'].isnull())) | ((dados['Tipo'] == 'Flat') & (dados['Condominio'].isnull())) | ((dados['Tipo'] == 'Loft') & (dados['Condominio'].isnull())) | ((dados['Tipo'] == 'Studio') & (dados['Condominio'].isnull()))\n",
    "dados[selecao_condominio_invalido].drop"
   ]
  },
  {
   "cell_type": "code",
   "execution_count": 98,
   "id": "03f9bcb4",
   "metadata": {},
   "outputs": [
    {
     "data": {
      "text/plain": [
       "23114"
      ]
     },
     "execution_count": 98,
     "metadata": {},
     "output_type": "execute_result"
    }
   ],
   "source": [
    "dados.shape[0]"
   ]
  },
  {
   "cell_type": "code",
   "execution_count": 102,
   "id": "364c35e7",
   "metadata": {},
   "outputs": [
    {
     "data": {
      "text/plain": [
       "False"
      ]
     },
     "execution_count": 102,
     "metadata": {},
     "output_type": "execute_result"
    }
   ],
   "source": [
    "dados['Condominio'].isnull == 'Casa'"
   ]
  },
  {
   "cell_type": "code",
   "execution_count": null,
   "id": "74360ae0",
   "metadata": {},
   "outputs": [],
   "source": []
  }
 ],
 "metadata": {
  "kernelspec": {
   "display_name": "Python 3 (ipykernel)",
   "language": "python",
   "name": "python3"
  },
  "language_info": {
   "codemirror_mode": {
    "name": "ipython",
    "version": 3
   },
   "file_extension": ".py",
   "mimetype": "text/x-python",
   "name": "python",
   "nbconvert_exporter": "python",
   "pygments_lexer": "ipython3",
   "version": "3.9.7"
  }
 },
 "nbformat": 4,
 "nbformat_minor": 5
}
